{
 "cells": [
  {
   "cell_type": "code",
   "execution_count": 1,
   "metadata": {},
   "outputs": [],
   "source": [
    "import cdsapi"
   ]
  },
  {
   "cell_type": "code",
   "execution_count": 6,
   "metadata": {},
   "outputs": [
    {
     "name": "stderr",
     "output_type": "stream",
     "text": [
      "2020-08-29 21:22:57,169 INFO Welcome to the CDS\n",
      "2020-08-29 21:22:57,169 INFO Sending request to https://cds.climate.copernicus.eu/api/v2/resources/reanalysis-era5-land\n",
      "2020-08-29 21:22:58,222 INFO Request is queued\n",
      "2020-08-29 21:22:59,406 INFO Request is running\n",
      "2020-08-29 21:23:31,680 INFO Request is completed\n",
      "2020-08-29 21:23:31,687 INFO Downloading http://136.156.133.46/cache-compute-0015/cache/data4/adaptor.mars.internal-1598716378.3930478-27130-31-481c9f70-f91e-4193-b644-87ccbaa31a3a.nc to download.nc (383.4M)\n",
      "2020-08-29 21:34:10,715 INFO Download rate 614.3K/s   \n"
     ]
    },
    {
     "data": {
      "text/plain": [
       "Result(content_length=402005996,content_type=application/x-netcdf,location=http://136.156.133.46/cache-compute-0015/cache/data4/adaptor.mars.internal-1598716378.3930478-27130-31-481c9f70-f91e-4193-b644-87ccbaa31a3a.nc)"
      ]
     },
     "execution_count": 6,
     "metadata": {},
     "output_type": "execute_result"
    }
   ],
   "source": [
    "c.retrieve(\n",
    "    'reanalysis-era5-land',\n",
    "    {\n",
    "        'format': 'netcdf',\n",
    "        'variable': '2m_temperature',\n",
    "        'year': '2019',\n",
    "        'month': '12',\n",
    "        'day': [\n",
    "            '01', '02', '03',\n",
    "            '04', '05', '06',\n",
    "            '07', '08', '09',\n",
    "            '10', '11', '12',\n",
    "            '13', '14', '15',\n",
    "            '16', '17', '18',\n",
    "            '19', '20', '21',\n",
    "            '22', '23', '24',\n",
    "            '25', '26', '27',\n",
    "            '28', '29', '30',\n",
    "            '31',\n",
    "        ],\n",
    "        'time': '12:00',\n",
    "    },\n",
    "    'download.nc')"
   ]
  },
  {
   "cell_type": "code",
   "execution_count": 7,
   "metadata": {},
   "outputs": [
    {
     "name": "stderr",
     "output_type": "stream",
     "text": [
      "2020-08-29 21:34:11,550 INFO Welcome to the CDS\n",
      "2020-08-29 21:34:11,550 INFO Sending request to https://cds.climate.copernicus.eu/api/v2/resources/reanalysis-era5-land\n",
      "2020-08-29 21:34:13,458 INFO Request is queued\n",
      "2020-08-29 21:34:14,655 INFO Request is running\n",
      "2020-08-29 21:34:46,950 INFO Request is completed\n",
      "2020-08-29 21:34:46,950 INFO Downloading http://136.156.132.235/cache-compute-0006/cache/data7/adaptor.mars.internal-1598717053.3430946-19768-11-0c0cae22-de31-49dd-a3b3-fbe689154bfc.nc to download1.nc (383.4M)\n",
      "2020-08-29 21:46:08,585 INFO Download rate 575.9K/s   \n"
     ]
    },
    {
     "data": {
      "text/plain": [
       "Result(content_length=402005992,content_type=application/x-netcdf,location=http://136.156.132.235/cache-compute-0006/cache/data7/adaptor.mars.internal-1598717053.3430946-19768-11-0c0cae22-de31-49dd-a3b3-fbe689154bfc.nc)"
      ]
     },
     "execution_count": 7,
     "metadata": {},
     "output_type": "execute_result"
    }
   ],
   "source": [
    "c.retrieve(\n",
    "    'reanalysis-era5-land',\n",
    "    {\n",
    "        'variable': 'total_precipitation',\n",
    "        'year': '2019',\n",
    "        'month': '12',\n",
    "        'day': [\n",
    "            '01', '02', '03',\n",
    "            '04', '05', '06',\n",
    "            '07', '08', '09',\n",
    "            '10', '11', '12',\n",
    "            '13', '14', '15',\n",
    "            '16', '17', '18',\n",
    "            '19', '20', '21',\n",
    "            '22', '23', '24',\n",
    "            '25', '26', '27',\n",
    "            '28', '29', '30',\n",
    "            '31',\n",
    "        ],\n",
    "        'time': '12:00',\n",
    "        'format': 'netcdf',\n",
    "    },\n",
    "    'download1.nc')"
   ]
  },
  {
   "cell_type": "code",
   "execution_count": 8,
   "metadata": {},
   "outputs": [
    {
     "name": "stderr",
     "output_type": "stream",
     "text": [
      "2020-08-29 21:46:09,421 INFO Welcome to the CDS\n",
      "2020-08-29 21:46:09,421 INFO Sending request to https://cds.climate.copernicus.eu/api/v2/resources/reanalysis-era5-land\n",
      "2020-08-29 21:46:10,280 INFO Downloading http://136.156.132.105/cache-compute-0000/cache/data5/adaptor.mars.internal-1598204402.2707257-8018-39-36f170dd-6225-4e18-9b98-814d0f014e10.nc to download2.nc (766.7M)\n",
      "2020-08-29 22:14:10,788 INFO Download rate 467.2K/s   \n"
     ]
    },
    {
     "data": {
      "text/plain": [
       "Result(content_length=803989456,content_type=application/x-netcdf,location=http://136.156.132.105/cache-compute-0000/cache/data5/adaptor.mars.internal-1598204402.2707257-8018-39-36f170dd-6225-4e18-9b98-814d0f014e10.nc)"
      ]
     },
     "execution_count": 8,
     "metadata": {},
     "output_type": "execute_result"
    }
   ],
   "source": [
    "c.retrieve(\n",
    "    'reanalysis-era5-land',\n",
    "    {\n",
    "        'variable': [\n",
    "            'total_precipitation', 'volumetric_soil_water_layer_1',\n",
    "        ],\n",
    "        'year': '2019',\n",
    "        'month': '12',\n",
    "        'day': [\n",
    "            '01', '02', '03',\n",
    "            '04', '05', '06',\n",
    "            '07', '08', '09',\n",
    "            '10', '11', '12',\n",
    "            '13', '14', '15',\n",
    "            '16', '17', '18',\n",
    "            '19', '20', '21',\n",
    "            '22', '23', '24',\n",
    "            '25', '26', '27',\n",
    "            '28', '29', '30',\n",
    "            '31',\n",
    "        ],\n",
    "        'time': '12:00',\n",
    "        'format': 'netcdf',\n",
    "    },\n",
    "    'download2.nc')"
   ]
  },
  {
   "cell_type": "code",
   "execution_count": null,
   "metadata": {},
   "outputs": [],
   "source": []
  }
 ],
 "metadata": {
  "kernelspec": {
   "display_name": "Python 3",
   "language": "python",
   "name": "python3"
  },
  "language_info": {
   "codemirror_mode": {
    "name": "ipython",
    "version": 3
   },
   "file_extension": ".py",
   "mimetype": "text/x-python",
   "name": "python",
   "nbconvert_exporter": "python",
   "pygments_lexer": "ipython3",
   "version": "3.7.6"
  }
 },
 "nbformat": 4,
 "nbformat_minor": 4
}
